from tensorflow.keras.models import load_model
from tensorflow.keras.preprocessing import image
import numpy as np

# Charger les modèles pré-entraînés
modele_detection = load_model('chemin/vers/modele_detection.h5')
modele_classification = load_model('chemin/vers/modele_classification.h5')


def pipeline_classification(path_to_image):
    img = image.load_img(path_to_image, target_size=(128, 128))
    img_array = image.img_to_array(img)
    img_array = np.expand_dims(img_array, axis=0)  # Convertir en lot de taille 1 dimension
    img_array /= 255.0  # Normaliser si nécessaire

    # Étape 1 : Détecter la pneumonie
    prediction_pneumonie = modele_detection.predict(img_array)
    
    if np.argmax(prediction_pneumonie) == 1:  # Supposons que '1' représente 'Pneumonie'
        # Étape 2 : Classer la pneumonie en bactérienne ou virale
        prediction_type = modele_classification.predict(img_array)
        if np.argmax(prediction_type) == 0:
            return 'Bactérienne'
        else:
            return 'Virale'
    else:
        return 'Normal'
