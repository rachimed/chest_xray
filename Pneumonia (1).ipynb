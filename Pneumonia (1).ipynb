{
  "nbformat": 4,
  "nbformat_minor": 0,
  "metadata": {
    "colab": {
      "provenance": [],
      "gpuType": "T4"
    },
    "kernelspec": {
      "name": "python3",
      "display_name": "Python 3"
    },
    "language_info": {
      "name": "python"
    },
    "accelerator": "GPU"
  },
  "cells": [
    {
      "cell_type": "markdown",
      "source": [
        "**Diagnostiquer la pneumonie à l'aide des rayons X**\n",
        "\n",
        "Les radiographies permettent de voir les signes de pneumonie et ainsi de confirmer le diagnostic, ainsi que d'identifier le type et le stade de la maladie. Contrairement à d’autres méthodes de diagnostic, à l’efficacité prouvée, les radiographies sont plus accessibles. Cependant, comme les signes de pneumonie et d’autres maladies pulmonaires sur les radiographies sont similaires, ce type d’étude ne constitue qu’une partie d’un diagnostic complet.\n",
        "\n",
        "Pour diagnostiquer, un spécialiste a besoin de:\n",
        "\n",
        "Forme et taille des champs pulmonaires (dans les limites normales ou noter les écarts par rapport à la norme)\n",
        "Les champs pulmonaires sont transparents ou des écarts par rapport à la norme sont détectés sous la forme de : ombres, dégagements, symptômes d'ombres mixtes.\n",
        "Etude du profil pulmonaire (amélioré, appauvri ou normal)\n",
        "Le modèle neuronal n'a pas besoin de ces données. Il ne nécessite pas un examen approfondi de l’image, le diagnostic sera annoncé instantanément. Mais vous devez d’abord le construire et le former. La base de notre modèle sera ResNet50, capable de traiter des problèmes d'un ordre de grandeur plus complexes que le nôtre."
      ],
      "metadata": {
        "id": "FrHI8txKKl-u"
      }
    },
    {
      "cell_type": "code",
      "source": [
        "\n",
        "!pip install tensorflow==2.2.0"
      ],
      "metadata": {
        "colab": {
          "base_uri": "https://localhost:8080/"
        },
        "id": "ryPp4uXytFnZ",
        "outputId": "f6c79db1-6960-4d01-b878-741dfbf2ffc0"
      },
      "execution_count": 55,
      "outputs": [
        {
          "output_type": "stream",
          "name": "stdout",
          "text": [
            "\u001b[31mERROR: Could not find a version that satisfies the requirement tensorflow==2.2.0 (from versions: 2.8.0rc0, 2.8.0rc1, 2.8.0, 2.8.1, 2.8.2, 2.8.3, 2.8.4, 2.9.0rc0, 2.9.0rc1, 2.9.0rc2, 2.9.0, 2.9.1, 2.9.2, 2.9.3, 2.10.0rc0, 2.10.0rc1, 2.10.0rc2, 2.10.0rc3, 2.10.0, 2.10.1, 2.11.0rc0, 2.11.0rc1, 2.11.0rc2, 2.11.0, 2.11.1, 2.12.0rc0, 2.12.0rc1, 2.12.0, 2.12.1, 2.13.0rc0, 2.13.0rc1, 2.13.0rc2, 2.13.0, 2.13.1, 2.14.0rc0, 2.14.0rc1, 2.14.0, 2.15.0rc0, 2.15.0rc1)\u001b[0m\u001b[31m\n",
            "\u001b[0m\u001b[31mERROR: No matching distribution found for tensorflow==2.2.0\u001b[0m\u001b[31m\n",
            "\u001b[0m"
          ]
        }
      ]
    },
    {
      "cell_type": "markdown",
      "source": [
        "#Import des librairies et fonctions nécessaires"
      ],
      "metadata": {
        "id": "bjV8UedW7EFP"
      }
    },
    {
      "cell_type": "code",
      "execution_count": 1,
      "metadata": {
        "id": "cQJ7YJhZ4RNk"
      },
      "outputs": [],
      "source": [
        "import os\n",
        "import numpy as np\n",
        "from tensorflow.keras.models import Sequential\n",
        "from tensorflow.keras.layers import Conv2D, MaxPooling2D\n",
        "from tensorflow.keras.layers import Activation, Dropout, Flatten, Dense\n",
        "from tensorflow.keras.preprocessing.image import ImageDataGenerator\n",
        "from tensorflow.keras.optimizers import Adam\n",
        "from sklearn.metrics import classification_report, confusion_matrix\n",
        "import seaborn as sns\n",
        "import matplotlib.pyplot as plt\n"
      ]
    },
    {
      "cell_type": "markdown",
      "source": [
        "# Chargement du dataset de kaggle\n"
      ],
      "metadata": {
        "id": "WQ83AOlT7A00"
      }
    },
    {
      "cell_type": "code",
      "source": [
        "#importer le fichier kaggle.ison qui contient le token\n",
        "from google.colab import files\n",
        "files.upload()\n"
      ],
      "metadata": {
        "colab": {
          "base_uri": "https://localhost:8080/",
          "height": 91
        },
        "id": "FbApZVOPpFQj",
        "outputId": "eb1e0fbb-2a9b-4f01-d0bf-b7541a926f18"
      },
      "execution_count": 2,
      "outputs": [
        {
          "output_type": "display_data",
          "data": {
            "text/plain": [
              "<IPython.core.display.HTML object>"
            ],
            "text/html": [
              "\n",
              "     <input type=\"file\" id=\"files-143d1f52-c3bd-451d-9851-79d64dd6a923\" name=\"files[]\" multiple disabled\n",
              "        style=\"border:none\" />\n",
              "     <output id=\"result-143d1f52-c3bd-451d-9851-79d64dd6a923\">\n",
              "      Upload widget is only available when the cell has been executed in the\n",
              "      current browser session. Please rerun this cell to enable.\n",
              "      </output>\n",
              "      <script>// Copyright 2017 Google LLC\n",
              "//\n",
              "// Licensed under the Apache License, Version 2.0 (the \"License\");\n",
              "// you may not use this file except in compliance with the License.\n",
              "// You may obtain a copy of the License at\n",
              "//\n",
              "//      http://www.apache.org/licenses/LICENSE-2.0\n",
              "//\n",
              "// Unless required by applicable law or agreed to in writing, software\n",
              "// distributed under the License is distributed on an \"AS IS\" BASIS,\n",
              "// WITHOUT WARRANTIES OR CONDITIONS OF ANY KIND, either express or implied.\n",
              "// See the License for the specific language governing permissions and\n",
              "// limitations under the License.\n",
              "\n",
              "/**\n",
              " * @fileoverview Helpers for google.colab Python module.\n",
              " */\n",
              "(function(scope) {\n",
              "function span(text, styleAttributes = {}) {\n",
              "  const element = document.createElement('span');\n",
              "  element.textContent = text;\n",
              "  for (const key of Object.keys(styleAttributes)) {\n",
              "    element.style[key] = styleAttributes[key];\n",
              "  }\n",
              "  return element;\n",
              "}\n",
              "\n",
              "// Max number of bytes which will be uploaded at a time.\n",
              "const MAX_PAYLOAD_SIZE = 100 * 1024;\n",
              "\n",
              "function _uploadFiles(inputId, outputId) {\n",
              "  const steps = uploadFilesStep(inputId, outputId);\n",
              "  const outputElement = document.getElementById(outputId);\n",
              "  // Cache steps on the outputElement to make it available for the next call\n",
              "  // to uploadFilesContinue from Python.\n",
              "  outputElement.steps = steps;\n",
              "\n",
              "  return _uploadFilesContinue(outputId);\n",
              "}\n",
              "\n",
              "// This is roughly an async generator (not supported in the browser yet),\n",
              "// where there are multiple asynchronous steps and the Python side is going\n",
              "// to poll for completion of each step.\n",
              "// This uses a Promise to block the python side on completion of each step,\n",
              "// then passes the result of the previous step as the input to the next step.\n",
              "function _uploadFilesContinue(outputId) {\n",
              "  const outputElement = document.getElementById(outputId);\n",
              "  const steps = outputElement.steps;\n",
              "\n",
              "  const next = steps.next(outputElement.lastPromiseValue);\n",
              "  return Promise.resolve(next.value.promise).then((value) => {\n",
              "    // Cache the last promise value to make it available to the next\n",
              "    // step of the generator.\n",
              "    outputElement.lastPromiseValue = value;\n",
              "    return next.value.response;\n",
              "  });\n",
              "}\n",
              "\n",
              "/**\n",
              " * Generator function which is called between each async step of the upload\n",
              " * process.\n",
              " * @param {string} inputId Element ID of the input file picker element.\n",
              " * @param {string} outputId Element ID of the output display.\n",
              " * @return {!Iterable<!Object>} Iterable of next steps.\n",
              " */\n",
              "function* uploadFilesStep(inputId, outputId) {\n",
              "  const inputElement = document.getElementById(inputId);\n",
              "  inputElement.disabled = false;\n",
              "\n",
              "  const outputElement = document.getElementById(outputId);\n",
              "  outputElement.innerHTML = '';\n",
              "\n",
              "  const pickedPromise = new Promise((resolve) => {\n",
              "    inputElement.addEventListener('change', (e) => {\n",
              "      resolve(e.target.files);\n",
              "    });\n",
              "  });\n",
              "\n",
              "  const cancel = document.createElement('button');\n",
              "  inputElement.parentElement.appendChild(cancel);\n",
              "  cancel.textContent = 'Cancel upload';\n",
              "  const cancelPromise = new Promise((resolve) => {\n",
              "    cancel.onclick = () => {\n",
              "      resolve(null);\n",
              "    };\n",
              "  });\n",
              "\n",
              "  // Wait for the user to pick the files.\n",
              "  const files = yield {\n",
              "    promise: Promise.race([pickedPromise, cancelPromise]),\n",
              "    response: {\n",
              "      action: 'starting',\n",
              "    }\n",
              "  };\n",
              "\n",
              "  cancel.remove();\n",
              "\n",
              "  // Disable the input element since further picks are not allowed.\n",
              "  inputElement.disabled = true;\n",
              "\n",
              "  if (!files) {\n",
              "    return {\n",
              "      response: {\n",
              "        action: 'complete',\n",
              "      }\n",
              "    };\n",
              "  }\n",
              "\n",
              "  for (const file of files) {\n",
              "    const li = document.createElement('li');\n",
              "    li.append(span(file.name, {fontWeight: 'bold'}));\n",
              "    li.append(span(\n",
              "        `(${file.type || 'n/a'}) - ${file.size} bytes, ` +\n",
              "        `last modified: ${\n",
              "            file.lastModifiedDate ? file.lastModifiedDate.toLocaleDateString() :\n",
              "                                    'n/a'} - `));\n",
              "    const percent = span('0% done');\n",
              "    li.appendChild(percent);\n",
              "\n",
              "    outputElement.appendChild(li);\n",
              "\n",
              "    const fileDataPromise = new Promise((resolve) => {\n",
              "      const reader = new FileReader();\n",
              "      reader.onload = (e) => {\n",
              "        resolve(e.target.result);\n",
              "      };\n",
              "      reader.readAsArrayBuffer(file);\n",
              "    });\n",
              "    // Wait for the data to be ready.\n",
              "    let fileData = yield {\n",
              "      promise: fileDataPromise,\n",
              "      response: {\n",
              "        action: 'continue',\n",
              "      }\n",
              "    };\n",
              "\n",
              "    // Use a chunked sending to avoid message size limits. See b/62115660.\n",
              "    let position = 0;\n",
              "    do {\n",
              "      const length = Math.min(fileData.byteLength - position, MAX_PAYLOAD_SIZE);\n",
              "      const chunk = new Uint8Array(fileData, position, length);\n",
              "      position += length;\n",
              "\n",
              "      const base64 = btoa(String.fromCharCode.apply(null, chunk));\n",
              "      yield {\n",
              "        response: {\n",
              "          action: 'append',\n",
              "          file: file.name,\n",
              "          data: base64,\n",
              "        },\n",
              "      };\n",
              "\n",
              "      let percentDone = fileData.byteLength === 0 ?\n",
              "          100 :\n",
              "          Math.round((position / fileData.byteLength) * 100);\n",
              "      percent.textContent = `${percentDone}% done`;\n",
              "\n",
              "    } while (position < fileData.byteLength);\n",
              "  }\n",
              "\n",
              "  // All done.\n",
              "  yield {\n",
              "    response: {\n",
              "      action: 'complete',\n",
              "    }\n",
              "  };\n",
              "}\n",
              "\n",
              "scope.google = scope.google || {};\n",
              "scope.google.colab = scope.google.colab || {};\n",
              "scope.google.colab._files = {\n",
              "  _uploadFiles,\n",
              "  _uploadFilesContinue,\n",
              "};\n",
              "})(self);\n",
              "</script> "
            ]
          },
          "metadata": {}
        },
        {
          "output_type": "stream",
          "name": "stdout",
          "text": [
            "Saving kaggle.json to kaggle.json\n"
          ]
        },
        {
          "output_type": "execute_result",
          "data": {
            "text/plain": [
              "{'kaggle.json': b'{\"username\":\"rhilout\",\"key\":\"5d683ee799949a189279998af108cf88\"}'}"
            ]
          },
          "metadata": {},
          "execution_count": 2
        }
      ]
    },
    {
      "cell_type": "code",
      "source": [
        "# déplacer kaggle.json dans la route .kaggle et définir les permissions du ficher.\n",
        "!mkdir -p ~/.kaggle\n",
        "!mv kaggle.json ~/.kaggle/\n",
        "!chmod 600 ~/.kaggle/kaggle.json\n"
      ],
      "metadata": {
        "id": "WL3-cs1yr7Y6"
      },
      "execution_count": 3,
      "outputs": []
    },
    {
      "cell_type": "code",
      "source": [
        "!kaggle datasets download -d paultimothymooney/chest-xray-pneumonia\n",
        "\n"
      ],
      "metadata": {
        "colab": {
          "base_uri": "https://localhost:8080/"
        },
        "id": "9SiDrO35qZ72",
        "outputId": "1fdd0729-a7c6-4011-8481-de97ba1f7504"
      },
      "execution_count": 4,
      "outputs": [
        {
          "output_type": "stream",
          "name": "stdout",
          "text": [
            "Downloading chest-xray-pneumonia.zip to /content\n",
            " 99% 2.27G/2.29G [00:21<00:00, 69.7MB/s]\n",
            "100% 2.29G/2.29G [00:21<00:00, 112MB/s] \n"
          ]
        }
      ]
    },
    {
      "cell_type": "code",
      "source": [
        "# Décomprésser\n",
        "!unzip -q chest-xray-pneumonia.zip\n"
      ],
      "metadata": {
        "id": "4gzIHt0NuZAH"
      },
      "execution_count": 5,
      "outputs": []
    },
    {
      "cell_type": "markdown",
      "source": [
        "# Définir les paramètres"
      ],
      "metadata": {
        "id": "qIi9jtvY71JQ"
      }
    },
    {
      "cell_type": "code",
      "source": [
        "class_names = ['NORMAL', 'PNEUMONIA']\n",
        "nb_classes = len(class_names)\n",
        "image_size = (120, 120)\n",
        "batch_size = 16\n"
      ],
      "metadata": {
        "id": "89fqjcI--78T"
      },
      "execution_count": 38,
      "outputs": []
    },
    {
      "cell_type": "code",
      "source": [
        "# from google.colab import drive\n",
        "# drive.mount('/content/drive')\n"
      ],
      "metadata": {
        "id": "5UqqvPmBMZ_z"
      },
      "execution_count": null,
      "outputs": []
    },
    {
      "cell_type": "code",
      "source": [
        "# dataset = 'https://www.kaggle.com/datasets/paultimothymooney/chest-xray-pneumonia'\n",
        "# train_data_dir = 'https://www.kaggle.com/datasets/paultimothymooney/chest-xray-pneumonia/train'\n",
        "# test_data_dir = 'https://www.kaggle.com/datasets/paultimothymooney/chest-xray-pneumonia/test'\n",
        "# # validation_data_dir =\n",
        "\n",
        "\n"
      ],
      "metadata": {
        "id": "iV_48s6n68tz"
      },
      "execution_count": null,
      "outputs": []
    },
    {
      "cell_type": "markdown",
      "source": [
        "# Prétraitement des données :\n",
        "# Augmentation et resize.\n",
        "L'augmentation est très limitée dans ce cas car les images de radiographie sont standardisées (pas de rotaion possible par exemple)."
      ],
      "metadata": {
        "id": "CUL-gSzw8Y8I"
      }
    },
    {
      "cell_type": "code",
      "source": [
        "\n",
        "\n",
        "train_dir = './chest_xray/train'\n",
        "validation_dir = './chest_xray/val'\n",
        "test_dir = './chest_xray/test'\n",
        "\n",
        "train_datagen = ImageDataGenerator(rescale=1.0/255)\n",
        "test_val_datagen = ImageDataGenerator(rescale=1.0/255)\n",
        "\n",
        "train_generator = train_datagen.flow_from_directory(\n",
        "    train_dir,\n",
        "    target_size=image_size,\n",
        "    batch_size=batch_size,\n",
        "    class_mode='binary')\n",
        "\n",
        "validation_generator = test_val_datagen.flow_from_directory(\n",
        "    validation_dir,\n",
        "    target_size=image_size,\n",
        "    batch_size= batch_size,\n",
        "    class_mode='binary')\n",
        "\n",
        "test_generator = test_val_datagen.flow_from_directory(\n",
        "    test_dir,\n",
        "    target_size=image_size,\n",
        "    batch_size=batch_size,\n",
        "    class_mode='binary',\n",
        "    shuffle=False)\n"
      ],
      "metadata": {
        "colab": {
          "base_uri": "https://localhost:8080/"
        },
        "id": "IvhtxkfL8YUM",
        "outputId": "217366dd-ff26-4f34-93c2-b480c6ea9391"
      },
      "execution_count": 48,
      "outputs": [
        {
          "output_type": "stream",
          "name": "stdout",
          "text": [
            "Found 5216 images belonging to 2 classes.\n",
            "Found 16 images belonging to 2 classes.\n",
            "Found 624 images belonging to 2 classes.\n"
          ]
        }
      ]
    },
    {
      "cell_type": "code",
      "source": [
        "\n",
        "train_normal = len(os.listdir(os.path.join(train_dir, \"NORMAL\")))\n",
        "train_pneumonia = len(os.listdir(os.path.join(train_dir, \"PNEUMONIA\")))\n",
        "\n",
        "test_normal = len(os.listdir(os.path.join(test_dir, \"NORMAL\")))\n",
        "test_pneumonia = len(os.listdir(os.path.join(test_dir, \"PNEUMONIA\")))\n",
        "\n",
        "validation_normal = len(os.listdir(os.path.join(validation_dir, \"NORMAL\")))\n",
        "validation_pneumonia = len(os.listdir(os.path.join(validation_dir, \"PNEUMONIA\")))"
      ],
      "metadata": {
        "id": "ofmJfdh5MtLe"
      },
      "execution_count": 49,
      "outputs": []
    },
    {
      "cell_type": "code",
      "source": [
        "plt.figure(figsize=(8, 5))\n",
        "sns.barplot(x=[\"Train\", \"Test\", \"Validation\"], y=[train_normal + train_pneumonia, test_normal + test_pneumonia, validation_normal + validation_pneumonia])\n",
        "plt.title(\"Distribution des images\")\n",
        "plt.ylabel(\"Count\")\n",
        "plt.show"
      ],
      "metadata": {
        "colab": {
          "base_uri": "https://localhost:8080/",
          "height": 485
        },
        "id": "GsNJMxk0vWKC",
        "outputId": "8a0890b1-b66d-43b1-df03-6197a09486e1"
      },
      "execution_count": 10,
      "outputs": [
        {
          "output_type": "execute_result",
          "data": {
            "text/plain": [
              "<function matplotlib.pyplot.show(close=None, block=None)>"
            ]
          },
          "metadata": {},
          "execution_count": 10
        },
        {
          "output_type": "display_data",
          "data": {
            "text/plain": [
              "<Figure size 800x500 with 1 Axes>"
            ],
            "image/png": "[encoded data removed]"
          },
          "metadata": {}
        }
      ]
    },
    {
      "cell_type": "code",
      "source": [
        "plt.figure(figsize=(8, 5))\n",
        "sns.barplot(x=[\"Normal\", \"PNEUMONIA\"], y=[train_normal + test_normal+ validation_normal, train_pneumonia + test_pneumonia + validation_pneumonia])\n",
        "plt.title(\"Distribution des images positif/negatif\")\n",
        "plt.ylabel(\"Count\")\n",
        "plt.show"
      ],
      "metadata": {
        "colab": {
          "base_uri": "https://localhost:8080/",
          "height": 485
        },
        "id": "Xin8uMYHxLDf",
        "outputId": "320d4e66-e8fd-42d7-95d0-6993d7ef4a65"
      },
      "execution_count": 11,
      "outputs": [
        {
          "output_type": "execute_result",
          "data": {
            "text/plain": [
              "<function matplotlib.pyplot.show(close=None, block=None)>"
            ]
          },
          "metadata": {},
          "execution_count": 11
        },
        {
          "output_type": "display_data",
          "data": {
            "text/plain": [
              "<Figure size 800x500 with 1 Axes>"
            ],
            "image/png": "[encoded data removed]"
          },
          "metadata": {}
        }
      ]
    },
    {
      "cell_type": "markdown",
      "source": [
        "Nous constatons que le dataset est très **désequilibré**, nous allons procéder par des techniques afin de favoriser la classe minoritaire(NORMAL) par une data-augmentation enrichie et des parametres de poids diffents dans les algorithmes."
      ],
      "metadata": {
        "id": "DRqdugYO2nDK"
      }
    },
    {
      "cell_type": "markdown",
      "source": [
        "Visualisation d'images"
      ],
      "metadata": {
        "id": "wKgX8o0kfC2_"
      }
    },
    {
      "cell_type": "code",
      "source": [],
      "metadata": {
        "id": "5KfWFM-b1MS5"
      },
      "execution_count": null,
      "outputs": []
    },
    {
      "cell_type": "code",
      "source": [
        "plt.figure(figsize=(15,15))\n",
        "for n,i in enumerate(list(np.random.randint(0,train_pneumonia,36))):\n",
        "    plt.subplot(6,6,n+1)\n",
        "    plt.imshow(train_pneumonia[i])\n",
        "    plt.axis(\"off\")"
      ],
      "metadata": {
        "colab": {
          "base_uri": "https://localhost:8080/",
          "height": 442
        },
        "id": "HVVY-FFVfK68",
        "outputId": "fd010bea-ad47-4c41-9c28-2a029e0b4115"
      },
      "execution_count": 41,
      "outputs": [
        {
          "output_type": "error",
          "ename": "TypeError",
          "evalue": "ignored",
          "traceback": [
            "\u001b[0;31m---------------------------------------------------------------------------\u001b[0m",
            "\u001b[0;31mTypeError\u001b[0m                                 Traceback (most recent call last)",
            "\u001b[0;32m<ipython-input-41-d30f9a083782>\u001b[0m in \u001b[0;36m<cell line: 2>\u001b[0;34m()\u001b[0m\n\u001b[1;32m      2\u001b[0m \u001b[0;32mfor\u001b[0m \u001b[0mn\u001b[0m\u001b[0;34m,\u001b[0m\u001b[0mi\u001b[0m \u001b[0;32min\u001b[0m \u001b[0menumerate\u001b[0m\u001b[0;34m(\u001b[0m\u001b[0mlist\u001b[0m\u001b[0;34m(\u001b[0m\u001b[0mnp\u001b[0m\u001b[0;34m.\u001b[0m\u001b[0mrandom\u001b[0m\u001b[0;34m.\u001b[0m\u001b[0mrandint\u001b[0m\u001b[0;34m(\u001b[0m\u001b[0;36m0\u001b[0m\u001b[0;34m,\u001b[0m\u001b[0mtrain_pneumonia\u001b[0m\u001b[0;34m,\u001b[0m\u001b[0;36m36\u001b[0m\u001b[0;34m)\u001b[0m\u001b[0;34m)\u001b[0m\u001b[0;34m)\u001b[0m\u001b[0;34m:\u001b[0m\u001b[0;34m\u001b[0m\u001b[0;34m\u001b[0m\u001b[0m\n\u001b[1;32m      3\u001b[0m     \u001b[0mplt\u001b[0m\u001b[0;34m.\u001b[0m\u001b[0msubplot\u001b[0m\u001b[0;34m(\u001b[0m\u001b[0;36m6\u001b[0m\u001b[0;34m,\u001b[0m\u001b[0;36m6\u001b[0m\u001b[0;34m,\u001b[0m\u001b[0mn\u001b[0m\u001b[0;34m+\u001b[0m\u001b[0;36m1\u001b[0m\u001b[0;34m)\u001b[0m\u001b[0;34m\u001b[0m\u001b[0;34m\u001b[0m\u001b[0m\n\u001b[0;32m----> 4\u001b[0;31m     \u001b[0mplt\u001b[0m\u001b[0;34m.\u001b[0m\u001b[0mimshow\u001b[0m\u001b[0;34m(\u001b[0m\u001b[0mtrain_pneumonia\u001b[0m\u001b[0;34m[\u001b[0m\u001b[0mi\u001b[0m\u001b[0;34m]\u001b[0m\u001b[0;34m)\u001b[0m\u001b[0;34m\u001b[0m\u001b[0;34m\u001b[0m\u001b[0m\n\u001b[0m\u001b[1;32m      5\u001b[0m     \u001b[0mplt\u001b[0m\u001b[0;34m.\u001b[0m\u001b[0maxis\u001b[0m\u001b[0;34m(\u001b[0m\u001b[0;34m\"off\"\u001b[0m\u001b[0;34m)\u001b[0m\u001b[0;34m\u001b[0m\u001b[0;34m\u001b[0m\u001b[0m\n",
            "\u001b[0;31mTypeError\u001b[0m: 'int' object is not subscriptable"
          ]
        },
        {
          "output_type": "display_data",
          "data": {
            "text/plain": [
              "<Figure size 1500x1500 with 1 Axes>"
            ],
            "image/png": "[encoded data removed]"
          },
          "metadata": {}
        }
      ]
    },
    {
      "cell_type": "markdown",
      "source": [
        "# Construction du model CNN\n"
      ],
      "metadata": {
        "id": "JtM-LnxXciJx"
      }
    },
    {
      "cell_type": "code",
      "source": [
        "# model = Sequential()\n",
        "\n",
        "# model.add(Conv2D(32, (3, 3), input_shape=(image_size[0], image_size[1], 3)))\n",
        "# model.add(Activation('relu'))\n",
        "# model.add(MaxPooling2D(pool_size=(2, 2)))\n",
        "\n",
        "# model.add(Conv2D(64, (3, 3)))\n",
        "# model.add(Activation('relu'))\n",
        "# model.add(MaxPooling2D(pool_size=(2, 2)))\n",
        "\n",
        "# # Répéter les couches Conv2D et MaxPooling2D selon les besoins\n",
        "\n",
        "# model.add(Flatten())\n",
        "# model.add(Dense(64))\n",
        "# model.add(Activation('relu'))\n",
        "# model.add(Dropout(0.5))\n",
        "# model.add(Dense(1))\n",
        "# model.add(Activation('sigmoid'))\n",
        "\n",
        "# model.compile(loss='binary_crossentropy',optimizer=Adam(learning_rate=0.0001),metrics=['accuracy'])\n"
      ],
      "metadata": {
        "id": "gVroodDMbwWo"
      },
      "execution_count": 31,
      "outputs": []
    },
    {
      "cell_type": "code",
      "source": [
        "# Model\n",
        "model = Sequential()\n",
        "\n",
        "model.add(Conv2D(32, (3, 3), activation='relu', input_shape=(image_size[0], image_size[1], 3)))\n",
        "model.add(MaxPooling2D((2, 2)))\n",
        "\n",
        "model.add(Conv2D(64, (3, 3), activation='relu'))\n",
        "model.add(MaxPooling2D((2, 2)))\n",
        "\n",
        "model.add(Conv2D(128, (3, 3), activation='relu'))\n",
        "model.add(MaxPooling2D((2, 2)))\n",
        "\n",
        "model.add(Flatten())\n",
        "\n",
        "model.add(Dense(128, activation='relu'))\n",
        "model.add(Dropout(0.5))\n",
        "\n",
        "model.add(Dense(1, activation='sigmoid'))\n",
        "\n",
        "model.compile(loss='binary_crossentropy', optimizer=Adam(learning_rate=0.0001), metrics=['accuracy'])"
      ],
      "metadata": {
        "id": "uw4nfkJe5HFs"
      },
      "execution_count": null,
      "outputs": []
    },
    {
      "cell_type": "code",
      "source": [
        "model.summary()"
      ],
      "metadata": {
        "colab": {
          "base_uri": "https://localhost:8080/"
        },
        "id": "rt4AxFhl5J1J",
        "outputId": "6f1e76a0-2326-4ff6-fa7d-e1ab31d7dcfc"
      },
      "execution_count": 58,
      "outputs": [
        {
          "output_type": "stream",
          "name": "stdout",
          "text": [
            "Model: \"sequential_4\"\n",
            "_________________________________________________________________\n",
            " Layer (type)                Output Shape              Param #   \n",
            "=================================================================\n",
            " conv2d_8 (Conv2D)           (None, 118, 118, 32)      896       \n",
            "                                                                 \n",
            " max_pooling2d_8 (MaxPoolin  (None, 59, 59, 32)        0         \n",
            " g2D)                                                            \n",
            "                                                                 \n",
            " conv2d_9 (Conv2D)           (None, 57, 57, 64)        18496     \n",
            "                                                                 \n",
            " max_pooling2d_9 (MaxPoolin  (None, 28, 28, 64)        0         \n",
            " g2D)                                                            \n",
            "                                                                 \n",
            " conv2d_10 (Conv2D)          (None, 26, 26, 128)       73856     \n",
            "                                                                 \n",
            " max_pooling2d_10 (MaxPooli  (None, 13, 13, 128)       0         \n",
            " ng2D)                                                           \n",
            "                                                                 \n",
            " flatten_4 (Flatten)         (None, 21632)             0         \n",
            "                                                                 \n",
            " dense_8 (Dense)             (None, 128)               2769024   \n",
            "                                                                 \n",
            " dropout_4 (Dropout)         (None, 128)               0         \n",
            "                                                                 \n",
            " dense_9 (Dense)             (None, 1)                 129       \n",
            "                                                                 \n",
            "=================================================================\n",
            "Total params: 2862401 (10.92 MB)\n",
            "Trainable params: 2862401 (10.92 MB)\n",
            "Non-trainable params: 0 (0.00 Byte)\n",
            "_________________________________________________________________\n"
          ]
        }
      ]
    },
    {
      "cell_type": "markdown",
      "source": [
        "#Entrainnement du model"
      ],
      "metadata": {
        "id": "XnM9eVdOcXQh"
      }
    },
    {
      "cell_type": "code",
      "source": [
        "\n",
        "\n",
        "history = model.fit(\n",
        "    train_generator,\n",
        "    steps_per_epoch=train_generator.samples // batch_size,\n",
        "    epochs=30,\n",
        "    validation_data=validation_generator,\n",
        "    validation_steps=validation_generator.samples // batch_size\n",
        ")\n"
      ],
      "metadata": {
        "id": "dyr-EPyGchhm",
        "colab": {
          "base_uri": "https://localhost:8080/"
        },
        "outputId": "c815f85d-3ae4-45af-ce3d-21a2f81fd060"
      },
      "execution_count": 57,
      "outputs": [
        {
          "output_type": "stream",
          "name": "stdout",
          "text": [
            "Epoch 1/30\n",
            "326/326 [==============================] - 48s 142ms/step - loss: 0.3538 - accuracy: 0.8447 - val_loss: 0.4575 - val_accuracy: 0.8750\n",
            "Epoch 2/30\n",
            "326/326 [==============================] - 45s 139ms/step - loss: 0.1531 - accuracy: 0.9438 - val_loss: 0.5418 - val_accuracy: 0.7500\n",
            "Epoch 3/30\n",
            "326/326 [==============================] - 47s 143ms/step - loss: 0.1192 - accuracy: 0.9559 - val_loss: 0.5308 - val_accuracy: 0.7500\n",
            "Epoch 4/30\n",
            "326/326 [==============================] - 50s 153ms/step - loss: 0.1044 - accuracy: 0.9617 - val_loss: 0.2161 - val_accuracy: 0.9375\n",
            "Epoch 5/30\n",
            "326/326 [==============================] - 45s 138ms/step - loss: 0.0971 - accuracy: 0.9636 - val_loss: 0.5400 - val_accuracy: 0.8125\n",
            "Epoch 6/30\n",
            "326/326 [==============================] - 45s 139ms/step - loss: 0.0853 - accuracy: 0.9709 - val_loss: 0.5369 - val_accuracy: 0.8125\n",
            "Epoch 7/30\n",
            "326/326 [==============================] - 47s 143ms/step - loss: 0.0905 - accuracy: 0.9693 - val_loss: 0.5487 - val_accuracy: 0.8125\n",
            "Epoch 8/30\n",
            "326/326 [==============================] - 47s 146ms/step - loss: 0.0737 - accuracy: 0.9757 - val_loss: 0.3635 - val_accuracy: 0.8125\n",
            "Epoch 9/30\n",
            "326/326 [==============================] - 44s 135ms/step - loss: 0.0716 - accuracy: 0.9747 - val_loss: 0.3095 - val_accuracy: 0.8125\n",
            "Epoch 10/30\n",
            "326/326 [==============================] - 44s 136ms/step - loss: 0.0605 - accuracy: 0.9803 - val_loss: 0.1378 - val_accuracy: 0.9375\n",
            "Epoch 11/30\n",
            "326/326 [==============================] - 45s 137ms/step - loss: 0.0631 - accuracy: 0.9772 - val_loss: 0.1403 - val_accuracy: 0.9375\n",
            "Epoch 12/30\n",
            "326/326 [==============================] - 44s 134ms/step - loss: 0.0609 - accuracy: 0.9785 - val_loss: 0.1611 - val_accuracy: 0.9375\n",
            "Epoch 13/30\n",
            "326/326 [==============================] - 46s 142ms/step - loss: 0.0583 - accuracy: 0.9818 - val_loss: 0.4172 - val_accuracy: 0.7500\n",
            "Epoch 14/30\n",
            "326/326 [==============================] - 44s 135ms/step - loss: 0.0506 - accuracy: 0.9841 - val_loss: 0.4161 - val_accuracy: 0.8125\n",
            "Epoch 15/30\n",
            "326/326 [==============================] - 50s 152ms/step - loss: 0.0479 - accuracy: 0.9845 - val_loss: 0.5515 - val_accuracy: 0.7500\n",
            "Epoch 16/30\n",
            "326/326 [==============================] - 45s 139ms/step - loss: 0.0449 - accuracy: 0.9833 - val_loss: 0.7009 - val_accuracy: 0.6875\n",
            "Epoch 17/30\n",
            "326/326 [==============================] - 43s 133ms/step - loss: 0.0454 - accuracy: 0.9854 - val_loss: 0.3930 - val_accuracy: 0.7500\n",
            "Epoch 18/30\n",
            "326/326 [==============================] - 43s 132ms/step - loss: 0.0415 - accuracy: 0.9858 - val_loss: 0.5454 - val_accuracy: 0.7500\n",
            "Epoch 19/30\n",
            "326/326 [==============================] - 43s 132ms/step - loss: 0.0420 - accuracy: 0.9870 - val_loss: 0.3931 - val_accuracy: 0.8125\n",
            "Epoch 20/30\n",
            "326/326 [==============================] - 44s 135ms/step - loss: 0.0365 - accuracy: 0.9864 - val_loss: 0.2051 - val_accuracy: 0.8750\n",
            "Epoch 21/30\n",
            "326/326 [==============================] - 43s 133ms/step - loss: 0.0331 - accuracy: 0.9896 - val_loss: 0.2002 - val_accuracy: 0.8750\n",
            "Epoch 22/30\n",
            "326/326 [==============================] - 44s 136ms/step - loss: 0.0303 - accuracy: 0.9898 - val_loss: 0.3329 - val_accuracy: 0.7500\n",
            "Epoch 23/30\n",
            "326/326 [==============================] - 43s 133ms/step - loss: 0.0331 - accuracy: 0.9872 - val_loss: 0.1186 - val_accuracy: 0.9375\n",
            "Epoch 24/30\n",
            "326/326 [==============================] - 44s 135ms/step - loss: 0.0259 - accuracy: 0.9914 - val_loss: 0.3377 - val_accuracy: 0.8125\n",
            "Epoch 25/30\n",
            "326/326 [==============================] - 45s 137ms/step - loss: 0.0266 - accuracy: 0.9881 - val_loss: 0.0429 - val_accuracy: 1.0000\n",
            "Epoch 26/30\n",
            "326/326 [==============================] - 44s 136ms/step - loss: 0.0262 - accuracy: 0.9908 - val_loss: 0.0864 - val_accuracy: 1.0000\n",
            "Epoch 27/30\n",
            "326/326 [==============================] - 45s 137ms/step - loss: 0.0212 - accuracy: 0.9927 - val_loss: 0.7078 - val_accuracy: 0.7500\n",
            "Epoch 28/30\n",
            "326/326 [==============================] - 43s 133ms/step - loss: 0.0241 - accuracy: 0.9925 - val_loss: 0.1681 - val_accuracy: 0.9375\n",
            "Epoch 29/30\n",
            "326/326 [==============================] - 47s 143ms/step - loss: 0.0199 - accuracy: 0.9948 - val_loss: 0.2725 - val_accuracy: 0.8125\n",
            "Epoch 30/30\n",
            "326/326 [==============================] - 44s 135ms/step - loss: 0.0188 - accuracy: 0.9944 - val_loss: 0.0662 - val_accuracy: 1.0000\n"
          ]
        }
      ]
    },
    {
      "cell_type": "markdown",
      "source": [],
      "metadata": {
        "id": "3X7QEud8-lTR"
      }
    },
    {
      "cell_type": "code",
      "source": [],
      "metadata": {
        "id": "-1W5O_SP-m5w"
      },
      "execution_count": null,
      "outputs": []
    },
    {
      "cell_type": "code",
      "source": [
        "# equilibrer les classes\n",
        "from sklearn.utils import class_weight\n",
        "class_weights = class_weight.compute_class_weight(\n",
        "    class_weight='balanced',\n",
        "    classes=np.unique(train_generator.classes),\n",
        "    y=train_generator.classes)\n",
        "class_weights = dict(enumerate(class_weights))\n",
        "\n"
      ],
      "metadata": {
        "id": "nL8xJQt-1D-Z"
      },
      "execution_count": 51,
      "outputs": []
    },
    {
      "cell_type": "code",
      "source": [
        "# history = model.fit(\n",
        "#     train_generator,\n",
        "#     steps_per_epoch=int(round(train_generator.samples/ batch_size)),\n",
        "#     epochs=10,\n",
        "#     validation_data=validation_generator,\n",
        "#     validation_steps=int(round(validation_generator.samples / batch_size)),\n",
        "#     class_weight=class_weights)\n",
        "\n",
        "# steps_per_epoch = 163  # Remplacez 326 par la valeur appropriée calculée séparément\n",
        "# validation_steps = 16  # Remplacez 16 par la valeur appropriée calculée séparément\n",
        "\n",
        "# history = model.fit(\n",
        "#     train_generator,\n",
        "#     steps_per_epoch=steps_per_epoch,\n",
        "#     epochs=10,\n",
        "#     validation_data=validation_generator,\n",
        "#     validation_steps=validation_steps\n",
        ")\n"
      ],
      "metadata": {
        "colab": {
          "base_uri": "https://localhost:8080/",
          "height": 426
        },
        "id": "uB9Z0uXlcdji",
        "outputId": "7bf20cc6-a783-4ea5-bcfd-424bb92520db"
      },
      "execution_count": 56,
      "outputs": [
        {
          "output_type": "stream",
          "name": "stdout",
          "text": [
            "Epoch 1/10\n",
            "163/163 [==============================] - ETA: 0s - loss: 0.0818 - accuracy: 0.9709"
          ]
        },
        {
          "output_type": "error",
          "ename": "TypeError",
          "evalue": "ignored",
          "traceback": [
            "\u001b[0;31m---------------------------------------------------------------------------\u001b[0m",
            "\u001b[0;31mTypeError\u001b[0m                                 Traceback (most recent call last)",
            "\u001b[0;32m<ipython-input-56-63a16ef8b90b>\u001b[0m in \u001b[0;36m<cell line: 12>\u001b[0;34m()\u001b[0m\n\u001b[1;32m     10\u001b[0m \u001b[0mvalidation_steps\u001b[0m \u001b[0;34m=\u001b[0m \u001b[0;36m16\u001b[0m  \u001b[0;31m# Remplacez 16 par la valeur appropriée calculée séparément\u001b[0m\u001b[0;34m\u001b[0m\u001b[0;34m\u001b[0m\u001b[0m\n\u001b[1;32m     11\u001b[0m \u001b[0;34m\u001b[0m\u001b[0m\n\u001b[0;32m---> 12\u001b[0;31m history = model.fit(\n\u001b[0m\u001b[1;32m     13\u001b[0m     \u001b[0mtrain_generator\u001b[0m\u001b[0;34m,\u001b[0m\u001b[0;34m\u001b[0m\u001b[0;34m\u001b[0m\u001b[0m\n\u001b[1;32m     14\u001b[0m     \u001b[0msteps_per_epoch\u001b[0m\u001b[0;34m=\u001b[0m\u001b[0msteps_per_epoch\u001b[0m\u001b[0;34m,\u001b[0m\u001b[0;34m\u001b[0m\u001b[0;34m\u001b[0m\u001b[0m\n",
            "\u001b[0;32m/usr/local/lib/python3.10/dist-packages/keras/src/utils/traceback_utils.py\u001b[0m in \u001b[0;36merror_handler\u001b[0;34m(*args, **kwargs)\u001b[0m\n\u001b[1;32m     68\u001b[0m             \u001b[0;31m# To get the full stack trace, call:\u001b[0m\u001b[0;34m\u001b[0m\u001b[0;34m\u001b[0m\u001b[0m\n\u001b[1;32m     69\u001b[0m             \u001b[0;31m# `tf.debugging.disable_traceback_filtering()`\u001b[0m\u001b[0;34m\u001b[0m\u001b[0;34m\u001b[0m\u001b[0m\n\u001b[0;32m---> 70\u001b[0;31m             \u001b[0;32mraise\u001b[0m \u001b[0me\u001b[0m\u001b[0;34m.\u001b[0m\u001b[0mwith_traceback\u001b[0m\u001b[0;34m(\u001b[0m\u001b[0mfiltered_tb\u001b[0m\u001b[0;34m)\u001b[0m \u001b[0;32mfrom\u001b[0m \u001b[0;32mNone\u001b[0m\u001b[0;34m\u001b[0m\u001b[0;34m\u001b[0m\u001b[0m\n\u001b[0m\u001b[1;32m     71\u001b[0m         \u001b[0;32mfinally\u001b[0m\u001b[0;34m:\u001b[0m\u001b[0;34m\u001b[0m\u001b[0;34m\u001b[0m\u001b[0m\n\u001b[1;32m     72\u001b[0m             \u001b[0;32mdel\u001b[0m \u001b[0mfiltered_tb\u001b[0m\u001b[0;34m\u001b[0m\u001b[0;34m\u001b[0m\u001b[0m\n",
            "\u001b[0;32m/usr/lib/python3.10/contextlib.py\u001b[0m in \u001b[0;36m__enter__\u001b[0;34m(self)\u001b[0m\n\u001b[1;32m    133\u001b[0m         \u001b[0;32mdel\u001b[0m \u001b[0mself\u001b[0m\u001b[0;34m.\u001b[0m\u001b[0margs\u001b[0m\u001b[0;34m,\u001b[0m \u001b[0mself\u001b[0m\u001b[0;34m.\u001b[0m\u001b[0mkwds\u001b[0m\u001b[0;34m,\u001b[0m \u001b[0mself\u001b[0m\u001b[0;34m.\u001b[0m\u001b[0mfunc\u001b[0m\u001b[0;34m\u001b[0m\u001b[0;34m\u001b[0m\u001b[0m\n\u001b[1;32m    134\u001b[0m         \u001b[0;32mtry\u001b[0m\u001b[0;34m:\u001b[0m\u001b[0;34m\u001b[0m\u001b[0;34m\u001b[0m\u001b[0m\n\u001b[0;32m--> 135\u001b[0;31m             \u001b[0;32mreturn\u001b[0m \u001b[0mnext\u001b[0m\u001b[0;34m(\u001b[0m\u001b[0mself\u001b[0m\u001b[0;34m.\u001b[0m\u001b[0mgen\u001b[0m\u001b[0;34m)\u001b[0m\u001b[0;34m\u001b[0m\u001b[0;34m\u001b[0m\u001b[0m\n\u001b[0m\u001b[1;32m    136\u001b[0m         \u001b[0;32mexcept\u001b[0m \u001b[0mStopIteration\u001b[0m\u001b[0;34m:\u001b[0m\u001b[0;34m\u001b[0m\u001b[0;34m\u001b[0m\u001b[0m\n\u001b[1;32m    137\u001b[0m             \u001b[0;32mraise\u001b[0m \u001b[0mRuntimeError\u001b[0m\u001b[0;34m(\u001b[0m\u001b[0;34m\"generator didn't yield\"\u001b[0m\u001b[0;34m)\u001b[0m \u001b[0;32mfrom\u001b[0m \u001b[0;32mNone\u001b[0m\u001b[0;34m\u001b[0m\u001b[0;34m\u001b[0m\u001b[0m\n",
            "\u001b[0;31mTypeError\u001b[0m: Cannot convert 0.5 to EagerTensor of dtype int64"
          ]
        }
      ]
    },
    {
      "cell_type": "code",
      "source": [
        "print(train_generator.samples)\n"
      ],
      "metadata": {
        "id": "h6B4qdCNRzzu",
        "colab": {
          "base_uri": "https://localhost:8080/"
        },
        "outputId": "5924ed29-8571-43c4-be6a-957bb9f03a02"
      },
      "execution_count": 16,
      "outputs": [
        {
          "output_type": "stream",
          "name": "stdout",
          "text": [
            "5216\n"
          ]
        }
      ]
    },
    {
      "cell_type": "code",
      "source": [
        "steps_per_epoch = train_generator.samples // batch_size\n",
        "print(steps_per_epoch)\n"
      ],
      "metadata": {
        "colab": {
          "base_uri": "https://localhost:8080/"
        },
        "id": "jape9q6JYjDj",
        "outputId": "d093cbec-adb6-48c2-c278-35f3542e38d8"
      },
      "execution_count": 29,
      "outputs": [
        {
          "output_type": "stream",
          "name": "stdout",
          "text": [
            "163\n"
          ]
        }
      ]
    },
    {
      "cell_type": "code",
      "source": [],
      "metadata": {
        "colab": {
          "base_uri": "https://localhost:8080/"
        },
        "id": "EHgFJLbdY-m-",
        "outputId": "998b2022-cd4f-4ed8-c61c-1b1d2545f350"
      },
      "execution_count": 18,
      "outputs": [
        {
          "output_type": "stream",
          "name": "stdout",
          "text": [
            "5216\n"
          ]
        }
      ]
    },
    {
      "cell_type": "markdown",
      "source": [
        "# Evaluation du modèle"
      ],
      "metadata": {
        "id": "TaGoVhx0cqMG"
      }
    },
    {
      "cell_type": "code",
      "source": [
        "test_loss, test_acc = model.evaluate(test_generator, steps=test_generator.samples)\n",
        "print('Test accuracy:', test_acc)\n"
      ],
      "metadata": {
        "id": "UBnK5gI7czLz",
        "colab": {
          "base_uri": "https://localhost:8080/"
        },
        "outputId": "2fbf0563-4ebd-4a43-af2e-c62d66641d4d"
      },
      "execution_count": 60,
      "outputs": [
        {
          "output_type": "stream",
          "name": "stdout",
          "text": [
            " 39/624 [>.............................] - ETA: 1:16 - loss: 1.8374 - accuracy: 0.7885"
          ]
        },
        {
          "output_type": "stream",
          "name": "stderr",
          "text": [
            "WARNING:tensorflow:Your input ran out of data; interrupting training. Make sure that your dataset or generator can generate at least `steps_per_epoch * epochs` batches (in this case, 624 batches). You may need to use the repeat() function when building your dataset.\n"
          ]
        },
        {
          "output_type": "stream",
          "name": "stdout",
          "text": [
            "\b\b\b\b\b\b\b\b\b\b\b\b\b\b\b\b\b\b\b\b\b\b\b\b\b\b\b\b\b\b\b\b\b\b\b\b\b\b\b\b\b\b\b\b\b\b\b\b\b\b\b\b\b\b\b\b\b\b\b\b\b\b\b\b\b\b\b\b\b\b\b\b\b\b\b\b\b\b\b\b\b\b\b\b\b\b\r624/624 [==============================] - 5s 8ms/step - loss: 1.8374 - accuracy: 0.7885\n",
            "Test accuracy: 0.7884615659713745\n"
          ]
        }
      ]
    },
    {
      "cell_type": "code",
      "source": [
        "# Results\n",
        "# test_results = model.evaluate(test_generator, steps=test_generator.samples // BATCH_SIZE)\n",
        "# print(\"Test Loss:\", test_results[0])\n",
        "# print(\"Test Accuracy:\", test_results[1])\n",
        "\n",
        "predictions = model.predict(test_generator)\n",
        "y_pred = (predictions > 0.5).astype(int)\n",
        "\n",
        "# print(classification_report(test_generator.classes, y_pred, target_names=[\"Normal\", \"Pneumonia\"]))\n",
        "confusion_mtx = confusion_matrix(test_generator.classes, y_pred)\n",
        "\n",
        "plt.figure(figsize=(6, 6))\n",
        "sns.heatmap(confusion_mtx, annot=True, fmt='d', cmap='Blues', cbar=False, square=True, xticklabels=[\"Normal\", \"Pneumonia\"], yticklabels=[\"Normal\", \"Pneumonia\"])\n",
        "plt.xlabel('Predicted')\n",
        "plt.ylabel('True')\n",
        "plt.title('Confusion Matrix')\n",
        "plt.show()"
      ],
      "metadata": {
        "id": "H2TqesbhCvMo",
        "colab": {
          "base_uri": "https://localhost:8080/",
          "height": 581
        },
        "outputId": "907b5b5a-08fa-45ff-ca84-c4c7489913a2"
      },
      "execution_count": 62,
      "outputs": [
        {
          "output_type": "stream",
          "name": "stdout",
          "text": [
            "39/39 [==============================] - 6s 127ms/step\n"
          ]
        },
        {
          "output_type": "display_data",
          "data": {
            "text/plain": [
              "<Figure size 600x600 with 1 Axes>"
            ],
            "image/png": "[encoded data removed]"
          },
          "metadata": {}
        }
      ]
    },
    {
      "cell_type": "markdown",
      "source": [
        "# Visualisation de l'accuracy\n"
      ],
      "metadata": {
        "id": "xQ_1pzvIdFr8"
      }
    },
    {
      "cell_type": "code",
      "source": [
        "# Visualisation\n",
        "plt.plot(history.history['accuracy'])\n",
        "plt.plot(history.history['val_accuracy'])\n",
        "plt.title('Accuracy')\n",
        "plt.ylabel('Accuracy')\n",
        "plt.xlabel('Epoch')\n",
        "plt.legend(['Train', 'Val'], loc='upper left')\n",
        "plt.show()\n"
      ],
      "metadata": {
        "id": "6VqL1scgeogV",
        "colab": {
          "base_uri": "https://localhost:8080/",
          "height": 472
        },
        "outputId": "448ea20d-e6ae-4db1-f26e-54aa7a407b54"
      },
      "execution_count": 65,
      "outputs": [
        {
          "output_type": "display_data",
          "data": {
            "text/plain": [
              "<Figure size 640x480 with 1 Axes>"
            ],
            "image/png": "[encoded data removed]"
          },
          "metadata": {}
        }
      ]
    },
    {
      "cell_type": "markdown",
      "source": [],
      "metadata": {
        "id": "oaIpI4h3dLJ7"
      }
    },
    {
      "cell_type": "code",
      "source": [
        "# Sauvegarder le modèle\n",
        "model.save('model1_pneumonia.h5')\n"
      ],
      "metadata": {
        "id": "nkbQC75WeurJ",
        "colab": {
          "base_uri": "https://localhost:8080/"
        },
        "outputId": "2a573871-524b-441b-afb2-7a4561efbf92"
      },
      "execution_count": 64,
      "outputs": [
        {
          "output_type": "stream",
          "name": "stderr",
          "text": [
            "/usr/local/lib/python3.10/dist-packages/keras/src/engine/training.py:3079: UserWarning: You are saving your model as an HDF5 file via `model.save()`. This file format is considered legacy. We recommend using instead the native Keras format, e.g. `model.save('my_model.keras')`.\n",
            "  saving_api.save_model(\n"
          ]
        }
      ]
    }
  ]
}